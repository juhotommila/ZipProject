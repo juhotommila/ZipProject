{
 "cells": [
  {
   "cell_type": "markdown",
   "id": "f2d1ff93",
   "metadata": {},
   "source": [
    "## Using SQLite with Python\n",
    "\n",
    "\n",
    "### For demonstration. DBProject.py is also provided.\n",
    "\n",
    "### Conclusions and technical notes are at the end of this file.\n",
    "\n"
   ]
  },
  {
   "cell_type": "code",
   "execution_count": 1,
   "id": "2bca4a23",
   "metadata": {},
   "outputs": [
    {
     "name": "stdout",
     "output_type": "stream",
     "text": [
      "3.36.0\n"
     ]
    }
   ],
   "source": [
    "import sqlite3\n",
    "from sqlite3 import Error\n",
    "\n",
    "print(sqlite3.sqlite_version)\n",
    "import pandas as pd\n",
    "from pyjstat import pyjstat\n",
    "from matplotlib import pyplot as plt"
   ]
  },
  {
   "cell_type": "markdown",
   "id": "e32873e1",
   "metadata": {},
   "source": [
    "### Using requests to get JSON data from a website.\n",
    "\n",
    "### Tried to exhaustion to generate a single API-call. Working solution was not found."
   ]
  },
  {
   "cell_type": "code",
   "execution_count": 2,
   "id": "8113b8be",
   "metadata": {},
   "outputs": [],
   "source": [
    "#Had to try. Might one day work just that easy.\n",
    "import requests\n",
    "import json\n",
    "\n",
    "test = requests.get('https://pxnet2.stat.fi:443/PXWeb/api/v1/fi/Postinumeroalueittainen_avoin_tieto/2022/paavo_pxt_12f3.px')\n",
    "test = test.json()"
   ]
  },
  {
   "cell_type": "code",
   "execution_count": 3,
   "id": "71728cc5",
   "metadata": {},
   "outputs": [],
   "source": [
    "import pprint"
   ]
  },
  {
   "cell_type": "code",
   "execution_count": 4,
   "id": "9b1336ac",
   "metadata": {
    "scrolled": false
   },
   "outputs": [],
   "source": [
    "#pprint.pprint(test) # Seems that we need different JSON-query."
   ]
  },
  {
   "cell_type": "markdown",
   "id": "059189fb",
   "metadata": {},
   "source": [
    "### Making 5 individual querys from Paavo-API to get wanted information.\n",
    "\n",
    "#### Interestingly first three work on a almost same syntax. Last two didnt. Both needed individual JSON-querys.\n",
    "#### Queries are stored in Income22-18 variables."
   ]
  },
  {
   "cell_type": "code",
   "execution_count": 5,
   "id": "cf0ae10e",
   "metadata": {
    "scrolled": true
   },
   "outputs": [
    {
     "data": {
      "text/plain": [
       "{'class': 'dataset',\n",
       " 'label': '5. Talouksien käytettävissä olevat rahatulot muuttujina Postinumeroalue ja Tiedot',\n",
       " 'source': 'Tulonjakotilasto, Tilastokeskus',\n",
       " 'updated': '2022-01-25T06:00:00Z',\n",
       " 'id': ['Postinumeroalue', 'Tiedot'],\n",
       " 'size': [5, 1],\n",
       " 'dimension': {'Postinumeroalue': {'label': 'Postinumeroalue',\n",
       "   'category': {'index': {'00130': 0,\n",
       "     '02380': 1,\n",
       "     '16710': 2,\n",
       "     '41930': 3,\n",
       "     '54800': 4},\n",
       "    'label': {'00130': '00130  Kaartinkaupunki (Helsinki)',\n",
       "     '02380': '02380  Suvisaaristo (Espoo)',\n",
       "     '16710': '16710  Hollola kk (Hollola)',\n",
       "     '41930': '41930  Kuohu (Jyväskylä)',\n",
       "     '54800': '54800  Savitaipale Keskus (Savitaipale)'}},\n",
       "   'link': {'describedby': [{'extension': {'Postinumeroalue': 'SCALE-TYPE=nominal'}}]}},\n",
       "  'Tiedot': {'label': 'Tiedot',\n",
       "   'category': {'index': {'tr_mtu': 0},\n",
       "    'label': {'tr_mtu': 'Talouksien mediaanitulot, 2020 (TR)'},\n",
       "    'unit': {'tr_mtu': {'base': 'euro', 'decimals': 0}}}}},\n",
       " 'value': [49730, 78856, 53072, 44560, 29097],\n",
       " 'role': {'metric': ['Tiedot']},\n",
       " 'version': '2.0',\n",
       " 'extension': {'px': {'tableid': 'statfin_paavo1_pxt_12f3', 'decimals': 0}}}"
      ]
     },
     "execution_count": 5,
     "metadata": {},
     "output_type": "execute_result"
    }
   ],
   "source": [
    "# JSON-query containing the information from the selected Zip-code areas year 2020 published 2022\n",
    "session = requests.Session()\n",
    "\n",
    "query = {\n",
    "\"query\": [\n",
    "    {\n",
    "      \"code\": \"Postinumeroalue\",\n",
    "      \"selection\": {\n",
    "        \"filter\": \"item\",\n",
    "        \"values\": [\n",
    "          \"00130\",\n",
    "          \"02380\",\n",
    "          \"16710\",\n",
    "          \"41930\",\n",
    "          \"54800\"\n",
    "        ]\n",
    "      }\n",
    "    },\n",
    "    {\n",
    "      \"code\": \"Tiedot\",\n",
    "      \"selection\": {\n",
    "        \"filter\": \"item\",\n",
    "        \"values\": [\n",
    "          \"tr_mtu\"\n",
    "        ]\n",
    "      }\n",
    "    }\n",
    "  ],\n",
    "  \"response\": {\n",
    "    \"format\": \"json-stat2\"\n",
    "  }\n",
    "}\n",
    "url = \"https://pxnet2.stat.fi:443/PXWeb/api/v1/fi/Postinumeroalueittainen_avoin_tieto/2022/paavo_pxt_12f3.px\"\n",
    "\n",
    "\n",
    "\n",
    "response = session.post(url, json=query)\n",
    "income22 = json.loads(response.text)\n",
    "\n",
    "income22\n",
    "\n"
   ]
  },
  {
   "cell_type": "code",
   "execution_count": 6,
   "id": "6f34fb6d",
   "metadata": {
    "scrolled": true
   },
   "outputs": [
    {
     "data": {
      "text/plain": [
       "{'class': 'dataset',\n",
       " 'label': '5. Talouksien käytettävissä olevat rahatulot muuttujina Postinumeroalue ja Tiedot',\n",
       " 'source': 'Tulonjakotilasto, Tilastokeskus',\n",
       " 'updated': '2021-01-25T06:00:00Z',\n",
       " 'id': ['Postinumeroalue', 'Tiedot'],\n",
       " 'size': [5, 1],\n",
       " 'dimension': {'Postinumeroalue': {'label': 'Postinumeroalue',\n",
       "   'category': {'index': {'00130': 0,\n",
       "     '02380': 1,\n",
       "     '16710': 2,\n",
       "     '41930': 3,\n",
       "     '54800': 4},\n",
       "    'label': {'00130': '00130  Kaartinkaupunki (Helsinki)',\n",
       "     '02380': '02380  Suvisaaristo (Espoo)',\n",
       "     '16710': '16710  Hollola kk (Hollola)',\n",
       "     '41930': '41930  Kuohu (Jyväskylä)',\n",
       "     '54800': '54800  Savitaipale Keskus (Savitaipale)'}},\n",
       "   'link': {'describedby': [{'extension': {'Postinumeroalue': 'SCALE-TYPE=nominal'}}]}},\n",
       "  'Tiedot': {'label': 'Tiedot',\n",
       "   'category': {'index': {'tr_mtu': 0},\n",
       "    'label': {'tr_mtu': 'Talouksien mediaanitulot, 2019 (TR)'},\n",
       "    'unit': {'tr_mtu': {'base': 'euro', 'decimals': 0}}}}},\n",
       " 'value': [53044, 76084, 50821, 44636, 29233],\n",
       " 'role': {'metric': ['Tiedot']},\n",
       " 'version': '2.0',\n",
       " 'extension': {'px': {'tableid': 'statfin_paavo1_pxt_12f3', 'decimals': 0}}}"
      ]
     },
     "execution_count": 6,
     "metadata": {},
     "output_type": "execute_result"
    }
   ],
   "source": [
    "# JSON-query containing the information from the selected Zip-code areas year 2019 published 2021.\n",
    "session = requests.Session()\n",
    "\n",
    "query = {\n",
    "\"query\": [\n",
    "    {\n",
    "      \"code\": \"Postinumeroalue\",\n",
    "      \"selection\": {\n",
    "        \"filter\": \"item\",\n",
    "        \"values\": [\n",
    "          \"00130\",\n",
    "          \"02380\",\n",
    "          \"16710\",\n",
    "          \"41930\",\n",
    "          \"54800\"\n",
    "        ]\n",
    "      }\n",
    "    },\n",
    "    {\n",
    "      \"code\": \"Tiedot\",\n",
    "      \"selection\": {\n",
    "        \"filter\": \"item\",\n",
    "        \"values\": [\n",
    "          \"tr_mtu\"\n",
    "        ]\n",
    "      }\n",
    "    }\n",
    "  ],\n",
    "  \"response\": {\n",
    "    \"format\": \"json-stat2\"\n",
    "  }\n",
    "}\n",
    "url = \"https://pxnet2.stat.fi:443/PXWeb/api/v1/fi/Postinumeroalueittainen_avoin_tieto/2021/paavo_pxt_12f3.px\"\n",
    "\n",
    "response = session.post(url, json=query)\n",
    "income21 = json.loads(response.text)\n",
    "\n",
    "income21"
   ]
  },
  {
   "cell_type": "code",
   "execution_count": 7,
   "id": "9fd57278",
   "metadata": {},
   "outputs": [
    {
     "data": {
      "text/plain": [
       "{'class': 'dataset',\n",
       " 'label': '5. Talouksien käytettävissä olevat rahatulot muuttujina Postinumeroalue ja Tiedot',\n",
       " 'source': 'Tulonjaon kokonaistilasto, Tilastokeskus',\n",
       " 'updated': '2020-01-27T06:00:00Z',\n",
       " 'id': ['Postinumeroalue', 'Tiedot'],\n",
       " 'size': [5, 1],\n",
       " 'dimension': {'Postinumeroalue': {'label': 'Postinumeroalue',\n",
       "   'category': {'index': {'00130': 0,\n",
       "     '02380': 1,\n",
       "     '16710': 2,\n",
       "     '41930': 3,\n",
       "     '54800': 4},\n",
       "    'label': {'00130': '00130  Kaartinkaupunki (Helsinki)',\n",
       "     '02380': '02380  Suvisaaristo (Espoo)',\n",
       "     '16710': '16710  Hollola kk (Hollola)',\n",
       "     '41930': '41930  Kuohu (Jyväskylä)',\n",
       "     '54800': '54800  Savitaipale Keskus (Savitaipale)'}}},\n",
       "  'Tiedot': {'label': 'Tiedot',\n",
       "   'category': {'index': {'tr_mtu': 0},\n",
       "    'label': {'tr_mtu': 'Talouksien mediaanitulot, 2017 (TR)'},\n",
       "    'unit': {'tr_mtu': {'base': 'euro', 'decimals': 0}}}}},\n",
       " 'value': [48082, 70733, 48128, 44458, 27498],\n",
       " 'role': {'metric': ['Tiedot']},\n",
       " 'version': '2.0',\n",
       " 'extension': {'px': {'tableid': 'statfin_paavo1_pxt_12f3', 'decimals': 0}}}"
      ]
     },
     "execution_count": 7,
     "metadata": {},
     "output_type": "execute_result"
    }
   ],
   "source": [
    "#JSON-query containing the information from the selected Zip-code areas year 2018 published 2020.\n",
    "session = requests.Session()\n",
    "\n",
    "query = {\n",
    "\"query\": [\n",
    "    {\n",
    "      \"code\": \"Postinumeroalue\",\n",
    "      \"selection\": {\n",
    "        \"filter\": \"item\",\n",
    "        \"values\": [\n",
    "          \"00130\",\n",
    "          \"02380\",\n",
    "          \"16710\",\n",
    "          \"41930\",\n",
    "          \"54800\"\n",
    "        ]\n",
    "      }\n",
    "    },\n",
    "    {\n",
    "      \"code\": \"Tiedot\",\n",
    "      \"selection\": {\n",
    "        \"filter\": \"item\",\n",
    "        \"values\": [\n",
    "          \"tr_mtu\"\n",
    "        ]\n",
    "      }\n",
    "    }\n",
    "  ],\n",
    "  \"response\": {\n",
    "    \"format\": \"json-stat2\"\n",
    "  }\n",
    "}\n",
    "url = \"https://pxnet2.stat.fi:443/PXWeb/api/v1/fi/Postinumeroalueittainen_avoin_tieto/2020/paavo_pxt_12f3.px\"\n",
    "\n",
    "response = session.post(url, json=query)\n",
    "income20 = json.loads(response.text)\n",
    "\n",
    "income20 # Dict. from JSON-query containing the information from the selected Zip-code areas year 2018 published 2020."
   ]
  },
  {
   "cell_type": "code",
   "execution_count": 8,
   "id": "acb025f7",
   "metadata": {},
   "outputs": [
    {
     "data": {
      "text/plain": [
       "{'class': 'dataset',\n",
       " 'label': 'Paavo - Postinumeroalueittainen avoin tieto 2019 muuttujina Postinumeroalue ja Tiedot',\n",
       " 'source': 'Tilastokeskus',\n",
       " 'updated': '2019-01-15T12:26:00Z',\n",
       " 'id': ['Postinumeroalue', 'Tiedot'],\n",
       " 'size': [5, 1],\n",
       " 'dimension': {'Postinumeroalue': {'label': 'Postinumeroalue',\n",
       "   'category': {'index': {'00130': 0,\n",
       "     '02380': 1,\n",
       "     '16710': 2,\n",
       "     '41930': 3,\n",
       "     '54800': 4},\n",
       "    'label': {'00130': '00130 Kaartinkaupunki   (Helsinki )',\n",
       "     '02380': '02380 Suvisaaristo   (Espoo )',\n",
       "     '16710': '16710 Hollola kk   (Hollola )',\n",
       "     '41930': '41930 Kuohu   (Jyväskylä )',\n",
       "     '54800': '54800 Savitaipale Keskus   (Savitaipale )'}}},\n",
       "  'Tiedot': {'label': 'Tiedot',\n",
       "   'category': {'index': {'Tr_mtu': 0},\n",
       "    'label': {'Tr_mtu': 'Talouksien mediaanitulot, 2016 (TR)'}}}},\n",
       " 'value': [45999, 68621, 46133, 41430, 27853],\n",
       " 'role': {},\n",
       " 'version': '2.0',\n",
       " 'extension': {'px': {'decimals': 0}}}"
      ]
     },
     "execution_count": 8,
     "metadata": {},
     "output_type": "execute_result"
    }
   ],
   "source": [
    "# Needs new query from Paavo-API because of the different URL.\n",
    "# JSON-query containing the information from the selected Zip-code areas from 2016 published 2019.\n",
    "session = requests.Session()\n",
    "\n",
    "query = {\n",
    "\n",
    "  \"query\": [\n",
    "    {\n",
    "      \"code\": \"Postinumeroalue\",\n",
    "      \"selection\": {\n",
    "        \"filter\": \"item\",\n",
    "        \"values\": [\n",
    "          \"00130\",\n",
    "          \"02380\",\n",
    "          \"16710\",\n",
    "          \"41930\",\n",
    "          \"54800\"\n",
    "        ]\n",
    "      }\n",
    "    },\n",
    "    {\n",
    "      \"code\": \"Tiedot\",\n",
    "      \"selection\": {\n",
    "        \"filter\": \"item\",\n",
    "        \"values\": [\n",
    "          \"Tr_mtu\"\n",
    "        ]\n",
    "      }\n",
    "    }\n",
    "  ],\n",
    "  \"response\": {\n",
    "    \"format\": \"json-stat2\"\n",
    "  }\n",
    "}\n",
    "\n",
    "url = \"https://pxnet2.stat.fi:443/PXWeb/api/v1/fi/Postinumeroalueittainen_avoin_tieto/2019/paavo_5_tr_2019.px\"\n",
    "\n",
    "\n",
    "response = session.post(url, json=query)\n",
    "income19 = json.loads(response.text)\n",
    "\n",
    "income19 # JSON-query containing the information from the selected Zip-code areas from 2016 published 2019."
   ]
  },
  {
   "cell_type": "code",
   "execution_count": 9,
   "id": "bfd4c660",
   "metadata": {},
   "outputs": [
    {
     "data": {
      "text/plain": [
       "{'class': 'dataset',\n",
       " 'label': 'Paavo - Postinumeroalueittainen avoin tieto 2018 muuttujina Postinumeroalue ja Tiedot',\n",
       " 'source': 'Tilastokeskus',\n",
       " 'updated': '2018-01-22T08:54:00Z',\n",
       " 'id': ['Postinumeroalue', 'Tiedot'],\n",
       " 'size': [5, 1],\n",
       " 'dimension': {'Postinumeroalue': {'label': 'Postinumeroalue',\n",
       "   'category': {'index': {'00130': 0,\n",
       "     '02380': 1,\n",
       "     '16710': 2,\n",
       "     '41930': 3,\n",
       "     '54800': 4},\n",
       "    'label': {'00130': '00130 Kaartinkaupunki   (Helsinki )',\n",
       "     '02380': '02380 Suvisaaristo   (Espoo )',\n",
       "     '16710': '16710 Hollola kk   (Hollola )',\n",
       "     '41930': '41930 Kuohu   (Jyväskylä )',\n",
       "     '54800': '54800 Savitaipale Keskus   (Savitaipale )'}}},\n",
       "  'Tiedot': {'label': 'Tiedot',\n",
       "   'category': {'index': {'Tr_mtu': 0},\n",
       "    'label': {'Tr_mtu': 'Talouksien mediaanitulot, 2015 (TR)'}}}},\n",
       " 'value': [44641, 67348, 44233, 41925, 27529],\n",
       " 'role': {},\n",
       " 'version': '2.0',\n",
       " 'extension': {'px': {'decimals': 0}}}"
      ]
     },
     "execution_count": 9,
     "metadata": {},
     "output_type": "execute_result"
    }
   ],
   "source": [
    "# JSON-query containing the information from the selected Zip-code areas from 2015 published 2018.\n",
    "session = requests.Session()\n",
    "\n",
    "query = {\n",
    "\n",
    "\"query\": [\n",
    "    {\n",
    "      \"code\": \"Postinumeroalue\",\n",
    "      \"selection\": {\n",
    "        \"filter\": \"item\",\n",
    "        \"values\": [\n",
    "          \"00130\",\n",
    "          \"02380\",\n",
    "          \"16710\",\n",
    "          \"41930\",\n",
    "          \"54800\"\n",
    "        ]\n",
    "      }\n",
    "    },\n",
    "    {\n",
    "      \"code\": \"Tiedot\",\n",
    "      \"selection\": {\n",
    "        \"filter\": \"item\",\n",
    "        \"values\": [\n",
    "          \"Tr_mtu\"\n",
    "        ]\n",
    "      }\n",
    "    }\n",
    "  ],\n",
    "  \"response\": {\n",
    "    \"format\": \"json-stat2\"\n",
    "  }\n",
    "}\n",
    "\n",
    "\n",
    "url = \"https://pxnet2.stat.fi:443/PXWeb/api/v1/fi/Postinumeroalueittainen_avoin_tieto/2018/paavo_5_tr_2018.px\"\n",
    "\n",
    "\n",
    "response = session.post(url, json=query)\n",
    "income18 = json.loads(response.text)\n",
    "\n",
    "income18 # JSON-query containing the information from the selected Zip-code areas from 2015 published 2018."
   ]
  },
  {
   "cell_type": "markdown",
   "id": "8743f0dd",
   "metadata": {},
   "source": [
    "### Creating the SQLite-database"
   ]
  },
  {
   "cell_type": "code",
   "execution_count": 10,
   "id": "a06d8d94",
   "metadata": {},
   "outputs": [],
   "source": [
    "def create_connection(incomesdb):\n",
    "    \"\"\" create a database connection to the SQLite database\n",
    "        specified by incomesdb\n",
    "    :param incomesdb: database file\n",
    "    :return: Connection object or None\n",
    "    \"\"\"\n",
    "    conn = None\n",
    "    try:\n",
    "        conn = sqlite3.connect(\"incomesdb.db\")\n",
    "        return conn\n",
    "    except Error as e:\n",
    "        print(e)\n",
    "\n",
    "    return conn\n"
   ]
  },
  {
   "cell_type": "code",
   "execution_count": 11,
   "id": "c35d9db1",
   "metadata": {},
   "outputs": [],
   "source": [
    "def create_table(conn, create_table_sql):\n",
    "    \"\"\" create a table from the create_table_sql statement\n",
    "    :param conn: Connection object\n",
    "    :param create_table_sql: a CREATE TABLE statement\n",
    "    :return:\n",
    "    \"\"\"\n",
    "    try:\n",
    "        c = conn.cursor()\n",
    "        c.execute(create_table_sql)\n",
    "    except Error as e:\n",
    "        print(e)"
   ]
  },
  {
   "cell_type": "code",
   "execution_count": 12,
   "id": "51e1068c",
   "metadata": {},
   "outputs": [],
   "source": [
    "def create_sql_database(database):\n",
    "    \n",
    "    #Create tables\n",
    "    sql_create_income22_table = \"\"\" CREATE TABLE IF NOT EXISTS income2022 (\n",
    "                                        zip text PRIMARY KEY,\n",
    "                                        area text,\n",
    "                                        income integer \n",
    "                                        \n",
    "                                    ); \"\"\"\n",
    "\n",
    "    \n",
    "\n",
    "    \n",
    "    sql_create_income21_table = \"\"\" CREATE TABLE IF NOT EXISTS income2021 (\n",
    "                                        zip text PRIMARY KEY,\n",
    "                                        area string,\n",
    "                                        income text \n",
    "                                        \n",
    "                                    ); \"\"\"\n",
    "     \n",
    "    sql_create_income20_table = \"\"\" CREATE TABLE IF NOT EXISTS income2020 (\n",
    "                                        zip text PRIMARY KEY,\n",
    "                                        area text,\n",
    "                                        income integer\n",
    "                                        \n",
    "                                    ); \"\"\"\n",
    "        \n",
    "    sql_create_income19_table = \"\"\" CREATE TABLE IF NOT EXISTS income2019 (\n",
    "                                        zip text PRIMARY KEY,\n",
    "                                        area text,\n",
    "                                        income integer\n",
    "                                        \n",
    "                                    ); \"\"\"\n",
    "    \n",
    "    sql_create_income18_table = \"\"\" CREATE TABLE IF NOT EXISTS income2018 (\n",
    "                                        zip text PRIMARY KEY,\n",
    "                                        area text ,\n",
    "                                        income integer\n",
    "                                        \n",
    "                                    ); \"\"\"\n",
    "\n",
    "   \n",
    "    # create a database connection\n",
    "    conn = create_connection(database)\n",
    "\n",
    "    # create tables\n",
    "    if conn is not None:\n",
    "        \n",
    "        create_table(conn, sql_create_income22_table)\n",
    "\n",
    "        create_table(conn, sql_create_income21_table)\n",
    "        \n",
    "        create_table(conn, sql_create_income20_table)\n",
    "        \n",
    "        create_table(conn, sql_create_income19_table)\n",
    "        \n",
    "        create_table(conn, sql_create_income18_table)\n",
    "    else:\n",
    "        print(\"Error! cannot create the database connection.\")\n"
   ]
  },
  {
   "cell_type": "markdown",
   "id": "9564350a",
   "metadata": {},
   "source": [
    "### Converting the Python Dict to variables supported in SQLite"
   ]
  },
  {
   "cell_type": "code",
   "execution_count": 13,
   "id": "8972034a",
   "metadata": {},
   "outputs": [],
   "source": [
    "def parser(income, zip_code_count = 5): \n",
    "    \"\"\" Function parses JSON-dict\n",
    "    :param income: Nested dict from JSON-query\n",
    "    :param zip_code_count number of zip-codes used. Default value: 5\n",
    "    :return: df_temp which contains parsed names and values for selected year.\n",
    "    \"\"\"\n",
    "    \n",
    "    \n",
    "    zip_codes = income['dimension']['Postinumeroalue']['category']['index'].keys()\n",
    "    zip_label = income['dimension']['Postinumeroalue']['category']['label'].values()\n",
    "\n",
    "    value = income['value']\n",
    "    \n",
    "    #Convert dict_keys and dict_values to string-variables.\n",
    "    zip_codes = [str(i) for i in zip_codes]\n",
    "    zip_label = [str(i) for i in zip_label]\n",
    "\n",
    "    #Iterate through the list and combine information to wanted list.\n",
    "    df_temp = []\n",
    "    for i in range(zip_code_count):\n",
    "        temp = []\n",
    "        temp.append(zip_codes[i])\n",
    "        temp.append(zip_label[i])\n",
    "        temp.append(value[i])\n",
    "        df_temp.append(temp)\n",
    "\n",
    "\n",
    "    return df_temp"
   ]
  },
  {
   "cell_type": "markdown",
   "id": "608afc02",
   "metadata": {},
   "source": [
    "### Inserting the JSON-query to the tables"
   ]
  },
  {
   "cell_type": "code",
   "execution_count": 14,
   "id": "c99d39a5",
   "metadata": {},
   "outputs": [],
   "source": [
    "def insert_query(database, year, income):\n",
    "    \n",
    "    conn = sqlite3.connect(database)\n",
    "\n",
    "    cursor = conn.cursor()\n",
    "\n",
    "    sql_ = \"INSERT INTO income%s VALUES (?,?,?)\" %year\n",
    "\n",
    "\n",
    "    for i in range(5):\n",
    "\n",
    "        # This is the q-mark style:\n",
    "        cursor.execute(sql_,(income[i][0], income[i][1], income[i][2]))\n",
    "\n",
    "    conn.commit()\n",
    "    \n"
   ]
  },
  {
   "cell_type": "code",
   "execution_count": 15,
   "id": "e5e5f6f2",
   "metadata": {
    "scrolled": true
   },
   "outputs": [],
   "source": [
    "def plotter(dfall):\n",
    "    value = [] # Empty lists in which the indexes are stored\n",
    "    #name = []\n",
    "    zip_codes = []\n",
    "    \n",
    "    years = list(dfall.keys()) #Selecting a dataframe-key (years)\n",
    "    df = dfall.get(years[0]) #Dataframe for years\n",
    "    \n",
    "    # Loop to iterate over keys and appending them to the zip_codes list\n",
    "    for l in df:\n",
    "        zip_codes.append(l[0])\n",
    "        \n",
    "    #While-loop to ask the wanted zip_code area\n",
    "    while (1):\n",
    "        i = input(\"Which zip-code area? Available: 00130, 02380, 16710, 41930 and 54800. Selected: \") \n",
    "        \n",
    "        if i in zip_codes: #Checks if the input zip-code can be found\n",
    "            print(\"OK\")\n",
    "            j = zip_codes.index(i) #Saving the index of wanted zip-code to check where it is stored in the dataframe\n",
    "            break;\n",
    "        else:\n",
    "            print(\"not available\")\n",
    "    \n",
    "    # Loop to the select the wanted year and append it on the name-list\n",
    "    for key in dfall:\n",
    "        x = dfall.get(key)\n",
    "        x = x[j]\n",
    "        value.append(x[2])\n",
    "     \n",
    "    name = x[1]\n",
    "        \n",
    "    #Plt-plot to show the income-growth over the years\n",
    "    plt.plot(years, value)\n",
    "    plt.title(name)\n",
    "    plt.xlabel(\"year\")\n",
    "    plt.ylabel(\"yearly median income (eur)\")\n",
    "    plt.show()\n",
    "    \n",
    "    #Calculating the average change in selected areas income\n",
    "    average =(value[-1] / value[0]) * 100\n",
    "\n",
    "    print(\"Household median income growth during five years in area %s has been %f percentage\" %(name,(average - 100)))"
   ]
  },
  {
   "cell_type": "markdown",
   "id": "417ea7e4",
   "metadata": {},
   "source": [
    "### Main\n",
    "\n",
    "#### Calls all functions and generates the results"
   ]
  },
  {
   "cell_type": "code",
   "execution_count": 16,
   "id": "0fdc6526",
   "metadata": {
    "scrolled": true
   },
   "outputs": [
    {
     "name": "stdout",
     "output_type": "stream",
     "text": [
      "Which zip-code area? Available: 00130, 02380, 16710, 41930 and 54800. Selected: 16710\n",
      "OK\n"
     ]
    },
    {
     "data": {
      "image/png": "[encoded data removed]",
      "text/plain": [
       "<Figure size 432x288 with 1 Axes>"
      ]
     },
     "metadata": {
      "needs_background": "light"
     },
     "output_type": "display_data"
    },
    {
     "name": "stdout",
     "output_type": "stream",
     "text": [
      "Household median income growth during five years in area 16710  Hollola kk (Hollola) has been 19.982818 percentage\n"
     ]
    }
   ],
   "source": [
    "def main():\n",
    "    database = r\"..\\incomesdb.db\"\n",
    "    \n",
    "    #Call to create SQLite-database\n",
    "    create_sql_database(database)\n",
    "    \n",
    "    #Call to parser and storing the individual JSON-querys to designated variables\n",
    "    df22 = parser(income22)\n",
    "    df21 = parser(income21)\n",
    "    df20 = parser(income20)\n",
    "    df19 = parser(income19)\n",
    "    df18 = parser(income18)\n",
    "    \n",
    "    #Denerates the \"dfall\"-dictionary where years are stored as keys. Inserts wanted information to database and plots the results.\n",
    "    dfall = {\"2018\": df18,\"2019\": df19, \"2020\": df20,\"2021\": df21, \"2022\": df22}\n",
    "    plotter(dfall)\n",
    "    for i in range(5):\n",
    "        year = list(dfall.keys())[i]\n",
    "        income = dfall.get(year)\n",
    "\n",
    "        insert_query(database,year, income)\n",
    "    \n",
    "    \n",
    "    #get_posts() #Helper function to check the tables contents\n",
    "    \n",
    "if __name__ == '__main__':\n",
    "    main()"
   ]
  },
  {
   "cell_type": "code",
   "execution_count": null,
   "id": "3e5835f0",
   "metadata": {},
   "outputs": [],
   "source": [
    "#def get_posts(year): #Not needed helper function used as double cheking the database's tables and their contents\n",
    "    #cursor.execute(\"SELECT * FROM income%s\" %year)\n",
    "    #print(cursor.fetchall())\n",
    "\n",
    "#get_posts()"
   ]
  },
  {
   "cell_type": "markdown",
   "id": "a7f87df9",
   "metadata": {},
   "source": [
    "## Conclusions\n",
    "\n",
    "Income growth has been highest in area <mark>16710  Hollola kk (Hollola) observed growth has been 19.982818 percent.</mark> Growth has been steady in the past five years.\n",
    "\n",
    "Some other areas such as Kaartinkaupunki the growth has been recently declining. It might something to do with pandemic when\n",
    "People are looking for more spacious apartments. Also, there has been growth in smaller areas during the same time which can additionally support the hypothesis that people are moving away from city centers where apartments can be quite small.\n",
    "\n",
    "\n",
    "### Technical notes\n",
    "\n",
    "There is a possibility to automate this script to update every March. It will need a designated function which checks the time and generates new JSON-query. This function will also generate a new SQLite-table and update the Zip-code index from five to six. However, the major design flaw of this script is that there are five different JSON-queries which affect in part for some of the script's design. Paavo-APi uses distinct urls to get the wanted queries and due to writers inexperience using the API, a solution for a single API call to get the wanted information was not found. This should be fixed first. Then update the code to get rid of five different dataframes and instead use only one. After these steps, the designated updater-function can be constructed properly. Lastly, Pandas Dataframe could have been used to store the JSON-querys. This is something that must be learned for the future.  "
   ]
  },
  {
   "cell_type": "code",
   "execution_count": null,
   "id": "cdf41d52",
   "metadata": {},
   "outputs": [],
   "source": []
  }
 ],
 "metadata": {
  "kernelspec": {
   "display_name": "Python 3 (ipykernel)",
   "language": "python",
   "name": "python3"
  },
  "language_info": {
   "codemirror_mode": {
    "name": "ipython",
    "version": 3
   },
   "file_extension": ".py",
   "mimetype": "text/x-python",
   "name": "python",
   "nbconvert_exporter": "python",
   "pygments_lexer": "ipython3",
   "version": "3.9.7"
  }
 },
 "nbformat": 4,
 "nbformat_minor": 5
}
